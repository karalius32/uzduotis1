{
 "cells": [
  {
   "cell_type": "code",
   "execution_count": 72,
   "metadata": {},
   "outputs": [],
   "source": [
    "from ultralytics import YOLO\n",
    "from ultralytics.data.converter import convert_segment_masks_to_yolo_seg\n",
    "import os\n",
    "from PIL import Image\n",
    "import torch\n",
    "import numpy as np\n",
    "from matplotlib import pyplot as plt\n",
    "import cv2"
   ]
  },
  {
   "cell_type": "code",
   "execution_count": null,
   "metadata": {},
   "outputs": [],
   "source": [
    "model = YOLO(\"yolov8n.pt\")\n",
    "results = model.train(data=\"data.yaml\", epochs=1, batch=8, imgsz=960)"
   ]
  },
  {
   "cell_type": "code",
   "execution_count": null,
   "metadata": {},
   "outputs": [],
   "source": [
    "model.export(format=\"torchscript\")"
   ]
  },
  {
   "cell_type": "code",
   "execution_count": null,
   "metadata": {},
   "outputs": [],
   "source": [
    "images = []\n",
    "for image_name in os.listdir(\"images/\"):\n",
    "    images.append(Image.open(os.path.join(\"images/\", image_name)))"
   ]
  },
  {
   "cell_type": "code",
   "execution_count": null,
   "metadata": {},
   "outputs": [],
   "source": [
    "model_torch = torch.jit.load(\"best_no_seg.torchscript\")\n",
    "model_torch.eval()\n",
    "\n",
    "images_np = []\n",
    "for image in images:\n",
    "    images_np.append(np.transpose(np.array(image.resize((960, 960))), (2, 0, 1)) / 255.0)\n",
    "images_tensor = torch.tensor(images_np).float()\n",
    "\n",
    "results = model_torch.forward(images_tensor)"
   ]
  },
  {
   "cell_type": "code",
   "execution_count": null,
   "metadata": {},
   "outputs": [],
   "source": [
    "results[0].shape"
   ]
  },
  {
   "cell_type": "code",
   "execution_count": null,
   "metadata": {},
   "outputs": [],
   "source": [
    "results[1].shape"
   ]
  },
  {
   "cell_type": "code",
   "execution_count": 68,
   "metadata": {},
   "outputs": [
    {
     "data": {
      "text/plain": [
       "tensor([[[ 4.5228e-01,  3.7155e-01,  3.6625e-01,  ...,  4.3602e-01,  4.3478e-01,  4.3795e-01],\n",
       "         [ 6.2003e-01,  5.4518e-01,  5.7179e-01,  ...,  2.7773e-01,  3.5290e-01,  4.0929e-01],\n",
       "         [ 7.6795e-01,  7.4576e-01,  5.8587e-01,  ...,  2.0646e-01,  3.0003e-01,  3.9186e-01],\n",
       "         ...,\n",
       "         [ 1.5988e+00,  3.2835e+00,  3.2877e+00,  ...,  2.0623e-01,  4.5414e-04,  8.0150e-02],\n",
       "         [ 1.0783e+00,  1.5016e+00,  2.8702e+00,  ...,  1.4926e-01,  5.9504e-02,  1.2430e-01],\n",
       "         [ 1.1034e+00,  1.3637e+00,  1.6933e+00,  ...,  2.4880e-01,  2.1729e-01,  2.8493e-01]],\n",
       "\n",
       "        [[-2.2979e-01, -2.5511e-01, -2.4815e-01,  ..., -1.2564e-01, -1.2704e-01, -1.8223e-01],\n",
       "         [-1.2855e-01, -1.4144e-01, -1.2132e-01,  ..., -2.4576e-01, -1.8096e-01, -1.8283e-01],\n",
       "         [-6.3495e-03, -3.1821e-02, -1.4676e-01,  ..., -2.6636e-01, -2.3719e-01, -2.2832e-01],\n",
       "         ...,\n",
       "         [ 1.4265e+00,  4.6539e+00,  5.2600e+00,  ..., -2.4165e-01, -2.7360e-01, -2.7838e-01],\n",
       "         [ 3.8605e-01,  1.1632e+00,  3.6422e+00,  ..., -2.5755e-01, -2.6474e-01, -2.7758e-01],\n",
       "         [ 3.8261e-01,  8.1303e-01,  1.5432e+00,  ..., -2.4528e-01, -2.5252e-01, -2.5605e-01]],\n",
       "\n",
       "        [[ 2.1761e-01,  1.9465e-01,  1.4733e-01,  ...,  1.2063e-01,  9.8705e-02,  1.7320e-01],\n",
       "         [ 2.3214e-01,  1.3606e-01,  1.2434e-01,  ...,  3.1351e-01,  2.0341e-01,  1.6767e-01],\n",
       "         [ 2.5935e-01,  2.6278e-01,  2.5087e-01,  ...,  3.5088e-01,  2.5405e-01,  1.7444e-01],\n",
       "         ...,\n",
       "         [ 4.9071e-01,  2.1792e-01, -2.7112e-01,  ...,  2.5194e-01,  9.0606e-02,  2.0071e-02],\n",
       "         [ 2.5932e-01,  5.1803e-01,  6.1314e-01,  ...,  2.1679e-01,  1.0741e-01,  5.6385e-02],\n",
       "         [ 1.2468e-01,  1.7394e-01,  8.1654e-02,  ...,  2.1174e-01,  2.1745e-01,  1.4905e-01]],\n",
       "\n",
       "        ...,\n",
       "\n",
       "        [[-1.4060e-01, -1.4814e-01, -1.5570e-01,  ..., -1.5783e-01, -1.8204e-01, -1.6050e-01],\n",
       "         [-1.0124e-01, -1.0464e-01, -1.2259e-01,  ..., -1.0354e-01, -1.5446e-01, -1.5060e-01],\n",
       "         [-7.6266e-02, -9.4025e-03, -9.5109e-02,  ..., -1.0281e-01, -1.3781e-01, -1.4601e-01],\n",
       "         ...,\n",
       "         [ 7.0387e-02,  5.0019e-01, -2.2747e-01,  ..., -1.8467e-01, -2.3744e-01, -2.2434e-01],\n",
       "         [-5.0308e-02,  4.7454e-01,  4.8550e-01,  ..., -1.7960e-01, -2.2976e-01, -2.1375e-01],\n",
       "         [-1.1385e-01,  1.8213e-02, -1.3622e-02,  ..., -2.0186e-01, -2.0881e-01, -1.9625e-01]],\n",
       "\n",
       "        [[ 1.3128e-01,  1.1280e-01,  1.5775e-01,  ...,  1.1396e-01,  9.9498e-02,  1.2482e-01],\n",
       "         [ 1.8537e-01,  1.4183e-01,  3.0480e-01,  ...,  2.3314e-01,  1.8444e-01,  1.3305e-01],\n",
       "         [ 3.2182e-01,  2.8452e-01,  4.4998e-01,  ...,  2.8890e-01,  2.4084e-01,  1.4628e-01],\n",
       "         ...,\n",
       "         [ 4.9787e-01,  2.5099e-01, -1.9043e-01,  ..., -8.2300e-02, -1.3322e-01, -1.1071e-01],\n",
       "         [ 6.9507e-01,  1.1001e+00,  6.1176e-01,  ..., -7.3311e-02, -1.1119e-01, -8.2729e-02],\n",
       "         [ 3.6003e-01,  5.0028e-01,  5.0496e-01,  ..., -4.1846e-02, -1.7935e-02,  7.8983e-03]],\n",
       "\n",
       "        [[ 7.5591e-01,  7.4178e-01,  6.9553e-01,  ...,  2.8605e-01,  3.7132e-01,  5.1514e-01],\n",
       "         [ 6.0475e-01,  4.5911e-01,  5.6699e-01,  ...,  4.5558e-01,  4.1515e-01,  4.4411e-01],\n",
       "         [ 5.9873e-01,  4.8670e-01,  7.5778e-01,  ...,  7.2729e-01,  6.8969e-01,  5.4444e-01],\n",
       "         ...,\n",
       "         [ 3.9254e-02, -2.6731e-01, -2.0444e-01,  ...,  5.5951e-01,  6.6608e-01,  5.6349e-01],\n",
       "         [ 4.8939e-01,  1.4258e-01, -2.5554e-01,  ...,  5.7208e-01,  5.5367e-01,  4.9753e-01],\n",
       "         [ 3.6655e-01,  1.0443e-01, -1.1834e-02,  ...,  2.5048e-01,  3.2397e-01,  4.2618e-01]]])"
      ]
     },
     "execution_count": 68,
     "metadata": {},
     "output_type": "execute_result"
    }
   ],
   "source": [
    "prototypes = torch.load(\"prototypes.pt\").state_dict()[\"0\"][0]\n",
    "prototypes"
   ]
  },
  {
   "cell_type": "code",
   "execution_count": 69,
   "metadata": {},
   "outputs": [],
   "source": [
    "prototypes = np.array(prototypes.cpu())"
   ]
  },
  {
   "cell_type": "code",
   "execution_count": 71,
   "metadata": {},
   "outputs": [
    {
     "data": {
      "text/plain": [
       "<Figure size 1000x500 with 32 Axes>"
      ]
     },
     "metadata": {},
     "output_type": "display_data"
    }
   ],
   "source": [
    "num_images = len(prototypes)\n",
    "num_cols = 8  # Change this according to your preference\n",
    "num_rows = (num_images + num_cols - 1) // num_cols\n",
    "\n",
    "# Plot the images\n",
    "fig, axes = plt.subplots(num_rows, num_cols, figsize=(10, 5))\n",
    "\n",
    "for i, ax in enumerate(axes.flat):\n",
    "    if i < num_images:\n",
    "        ax.imshow(prototypes[i], cmap='gray')\n",
    "        ax.axis('off')\n",
    "    else:\n",
    "        ax.axis('off')  # Hide axes for empty subplots\n",
    "\n",
    "plt.tight_layout()\n",
    "plt.show()"
   ]
  }
 ],
 "metadata": {
  "kernelspec": {
   "display_name": "Python 3",
   "language": "python",
   "name": "python3"
  },
  "language_info": {
   "codemirror_mode": {
    "name": "ipython",
    "version": 3
   },
   "file_extension": ".py",
   "mimetype": "text/x-python",
   "name": "python",
   "nbconvert_exporter": "python",
   "pygments_lexer": "ipython3",
   "version": "3.11.9"
  }
 },
 "nbformat": 4,
 "nbformat_minor": 2
}
